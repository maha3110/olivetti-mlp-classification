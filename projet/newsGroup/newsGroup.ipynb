{
 "cells": [
  {
   "cell_type": "code",
   "execution_count": 1,
   "metadata": {},
   "outputs": [
    {
     "name": "stdout",
     "output_type": "stream",
     "text": [
      "['alt.atheism', 'comp.graphics', 'comp.os.ms-windows.misc', 'comp.sys.ibm.pc.hardware', 'comp.sys.mac.hardware', 'comp.windows.x', 'misc.forsale', 'rec.autos', 'rec.motorcycles', 'rec.sport.baseball', 'rec.sport.hockey', 'sci.crypt', 'sci.electronics', 'sci.med', 'sci.space', 'soc.religion.christian', 'talk.politics.guns', 'talk.politics.mideast', 'talk.politics.misc', 'talk.religion.misc']\n"
     ]
    }
   ],
   "source": [
    "from sklearn.datasets import fetch_20newsgroups\n",
    "from sklearn.feature_extraction.text import CountVectorizer\n",
    "from sklearn.feature_extraction.text import TfidfTransformer\n",
    "from sklearn.neural_network import MLPClassifier\n",
    "from sklearn.model_selection import GridSearchCV\n",
    "from sklearn.metrics import confusion_matrix\n",
    "\n",
    "import numpy as np\n",
    "\n",
    "# Load the dataset\n",
    "twenty_train = fetch_20newsgroups(subset='train', shuffle=True)\n",
    "print(twenty_train.target_names) #prints all the categories\n"
   ]
  },
  {
   "cell_type": "code",
   "execution_count": 2,
   "metadata": {},
   "outputs": [
    {
     "name": "stdout",
     "output_type": "stream",
     "text": [
      "(11314, 130107)\n"
     ]
    }
   ],
   "source": [
    "# Extract features from text files\n",
    "count_vect = CountVectorizer()\n",
    "X_train_counts = count_vect.fit_transform(twenty_train.data)\n",
    "print(X_train_counts.shape) #prints the number of documents and the number of words in the vocabulary"
   ]
  },
  {
   "cell_type": "code",
   "execution_count": 3,
   "metadata": {},
   "outputs": [
    {
     "name": "stdout",
     "output_type": "stream",
     "text": [
      "(11314, 130107)\n"
     ]
    }
   ],
   "source": [
    "# Compute the tf-idf\n",
    "# tf-idf is a statistical measure that evaluates how relevant a word is to a document in a collection of documents\n",
    "\n",
    "tfidf_transformer = TfidfTransformer()\n",
    "X_train_tfidf = tfidf_transformer.fit_transform(X_train_counts)\n",
    "print(X_train_tfidf.shape) #prints the number of documents and the number of words in the vocabulary"
   ]
  },
  {
   "cell_type": "code",
   "execution_count": 27,
   "metadata": {},
   "outputs": [
    {
     "data": {
      "text/plain": [
       "MLPClassifier(hidden_layer_sizes=(100, 100), learning_rate_init=0.0001)"
      ]
     },
     "execution_count": 27,
     "metadata": {},
     "output_type": "execute_result"
    }
   ],
   "source": [
    "# Train a classifier\n",
    "# We will use a Multi-layer Perceptron classifier\n",
    "\n",
    "MLPClassifier(hidden_layer_sizes=(100, 50, 10), max_iter=100, alpha=0.0001,\n",
    "                          solver='adam', verbose=10, tol=0.0001, random_state=42,\n",
    "                            learning_rate_init=.001,\n",
    "                            activation='relu', learning_rate='constant')\n",
    "                          \n",
    "\n",
    "mlp.fit(X_train_tfidf, twenty_train.target)\n",
    "\n",
    "\n"
   ]
  },
  {
   "cell_type": "code",
   "execution_count": 28,
   "metadata": {},
   "outputs": [
    {
     "name": "stdout",
     "output_type": "stream",
     "text": [
      "0.784784917684546\n",
      "0.784784917684546\n"
     ]
    }
   ],
   "source": [
    "# test the classifier\n",
    "twenty_test = fetch_20newsgroups(subset='test', shuffle=True)\n",
    "predicted = mlp.predict(count_vect.transform(twenty_test.data))\n",
    "print(np.mean(predicted == twenty_test.target))\n",
    "accuracy = mlp.score(count_vect.transform(twenty_test.data), twenty_test.target)\n",
    "print(accuracy)"
   ]
  },
  {
   "cell_type": "code",
   "execution_count": null,
   "metadata": {},
   "outputs": [],
   "source": [
    "# Grid search\n",
    "\n",
    "parameters = { 'hidden_layer_sizes': [(100, 100 ), (100, 100, 100 ), (100, 100, 100, 100 )],\n",
    "                'solver': ['adam', 'sgd' ],\n",
    "                'alpha': [0.0001, 0.001, 0.01],\n",
    "                'learning_rate': ['constant'],\n",
    "                'learning_rate_init': [0.001, 0.01, 0.1],\n",
    "                'max_iter': [200],\n",
    "                'shuffle': [True],\n",
    "                'random_state': [None],\n",
    "                'tol': [0.0001],\n",
    "                'verbose': [False]\n",
    "              }\n",
    "\n",
    "mlp = MLPClassifier()\n",
    "\n",
    "clf = GridSearchCV(mlp, parameters, cv=5, n_jobs=-1)\n",
    "clf.fit(X_train_tfidf, twenty_train.target)\n",
    "print(\"bes parameters: \", clf.best_params_)\n",
    "print(\"best score: \", clf.best_score_)\n",
    "print(\"best estimator: \", clf.best_estimator_)\n",
    "print(\"best index: \", clf.best_index_)\n",
    "print(\"scorer: \", clf.scorer_)\n",
    "\n",
    "# test the classifier\n",
    "twenty_test = fetch_20newsgroups(subset='test', shuffle=True)\n",
    "predicted = clf.predict(count_vect.transform(twenty_test.data))\n",
    "print(np.mean(predicted == twenty_test.target))"
   ]
  },
  {
   "cell_type": "code",
   "execution_count": null,
   "metadata": {},
   "outputs": [],
   "source": [
    "# Confusion matrix\n",
    " \n",
    "cm = confusion_matrix(twenty_test.target, predicted)"
   ]
  },
  {
   "cell_type": "code",
   "execution_count": null,
   "metadata": {},
   "outputs": [],
   "source": [
    "import matplotlib.pyplot as plt\n",
    "import seaborn as sns\n",
    "\n",
    "plt.figure(figsize=(20,20))\n",
    "sns.heatmap(cm, annot=True, fmt=\"d\")\n",
    "plt.ylabel('Actual')\n",
    "plt.xlabel('Predicted')\n",
    "plt.show()\n",
    "\n",
    "sns.heatmap(cm, annot=True, fmt=\"d\", cmap=\"YlGnBu\")\n",
    "plt.ylabel('Actual')\n",
    "plt.xlabel('Predicted')\n",
    "plt.show()"
   ]
  },
  {
   "cell_type": "code",
   "execution_count": null,
   "metadata": {},
   "outputs": [],
   "source": [
    "from sklearn.datasets import fetch_20newsgroups\n",
    "from sklearn.neural_network import MLPClassifier\n",
    "from sklearn.feature_extraction.text import TfidfVectorizer\n",
    "from sklearn.pipeline import Pipeline\n",
    "from sklearn.metrics import accuracy_score\n",
    "\n",
    "# Load the data\n",
    "categories = ['alt.atheism', 'comp.graphics', 'sci.med', 'soc.religion.christian']\n",
    "train_data = fetch_20newsgroups(subset='train', categories=categories)\n",
    "test_data = fetch_20newsgroups(subset='test', categories=categories)\n",
    "\n",
    "# Create a pipeline for preprocessing and training the model\n",
    "pipeline = Pipeline([\n",
    "    ('vectorizer', TfidfVectorizer()),\n",
    "    ('classifier', MLPClassifier(hidden_layer_sizes=(50,), max_iter=10, alpha=1e-4,\n",
    "                                 solver='adam', verbose=10, random_state=1)),\n",
    "])\n",
    "\n",
    "# Train the model\n",
    "pipeline.fit(train_data.data, train_data.target)\n",
    "\n",
    "# Evaluate the model on the test set\n",
    "y_pred = pipeline.predict(test_data.data)\n",
    "accuracy = accuracy_score(test_data.target, y_pred)\n",
    "print(f\"Accuracy: {accuracy:.4f}\")\n"
   ]
  },
  {
   "cell_type": "code",
   "execution_count": 24,
   "metadata": {},
   "outputs": [
    {
     "name": "stdout",
     "output_type": "stream",
     "text": [
      "Iteration 1, loss = 2.82373447\n",
      "Iteration 2, loss = 2.15334580\n",
      "Iteration 3, loss = 1.34884726\n",
      "Iteration 4, loss = 0.75890099\n",
      "Iteration 5, loss = 0.43937494\n",
      "Iteration 6, loss = 0.27393795\n",
      "Iteration 7, loss = 0.18289557\n",
      "Iteration 8, loss = 0.12883565\n",
      "Iteration 9, loss = 0.09503590\n",
      "Iteration 10, loss = 0.07289065\n",
      "Iteration 11, loss = 0.05779304\n",
      "Iteration 12, loss = 0.04726972\n",
      "Iteration 13, loss = 0.03950707\n",
      "Iteration 14, loss = 0.03383328\n",
      "Iteration 15, loss = 0.02949551\n",
      "Iteration 16, loss = 0.02612945\n",
      "Iteration 17, loss = 0.02348888\n",
      "Iteration 18, loss = 0.02139017\n",
      "Iteration 19, loss = 0.01964030\n",
      "Iteration 20, loss = 0.01807365\n",
      "Iteration 21, loss = 0.01691341\n",
      "Iteration 22, loss = 0.01584750\n",
      "Iteration 23, loss = 0.01499103\n",
      "Iteration 24, loss = 0.01414177\n",
      "Iteration 25, loss = 0.01351790\n",
      "Iteration 26, loss = 0.01294783\n",
      "Iteration 27, loss = 0.01237512\n",
      "Iteration 28, loss = 0.01200344\n",
      "Iteration 29, loss = 0.01151112\n",
      "Iteration 30, loss = 0.01114679\n",
      "Iteration 31, loss = 0.01090221\n",
      "Iteration 32, loss = 0.01063882\n",
      "Iteration 33, loss = 0.01036209\n",
      "Iteration 34, loss = 0.00999442\n",
      "Iteration 35, loss = 0.00980629\n",
      "Iteration 36, loss = 0.00964052\n",
      "Iteration 37, loss = 0.00948824\n",
      "Iteration 38, loss = 0.00927660\n",
      "Iteration 39, loss = 0.00907050\n",
      "Iteration 40, loss = 0.00895907\n",
      "Iteration 41, loss = 0.00876948\n",
      "Iteration 42, loss = 0.00863931\n",
      "Iteration 43, loss = 0.00850337\n",
      "Iteration 44, loss = 0.00836094\n",
      "Iteration 45, loss = 0.00829901\n",
      "Iteration 46, loss = 0.00810604\n",
      "Iteration 47, loss = 0.00808781\n",
      "Iteration 48, loss = 0.00800578\n",
      "Iteration 49, loss = 0.00801146\n",
      "Iteration 50, loss = 0.00775311\n"
     ]
    },
    {
     "name": "stderr",
     "output_type": "stream",
     "text": [
      "/home/chayma/anaconda3/lib/python3.9/site-packages/sklearn/neural_network/_multilayer_perceptron.py:692: ConvergenceWarning: Stochastic Optimizer: Maximum iterations (50) reached and the optimization hasn't converged yet.\n",
      "  warnings.warn(\n"
     ]
    },
    {
     "name": "stdout",
     "output_type": "stream",
     "text": [
      "Accuracy: 0.8587360594795539\n"
     ]
    },
    {
     "data": {
      "text/plain": [
       "\"In this code, we first load the 20newsgroups dataset using fetch_20newsgroups function from \\nsklearn.datasets. We then create a pipeline that consists of TfidfVectorizer for text feature \\nextraction and MLPClassifier for classification.\\n\\nWe use a hidden layer size of 50, max iteration of 50,\\n and an alpha value of 0.0001. We set the solver to 'adam',\\n   which is a stochastic gradient-based optimizer, and verbose to 10 to \\n   get updates on the training process. We set the random state to 42 \\n   for reproducibility.\\n\\nWe then fit the pipeline to the training data and evaluate the pipeline \\non the test data using the score method. This code should achieve an accuracy \\nof over 90% without extracting categories.\""
      ]
     },
     "execution_count": 24,
     "metadata": {},
     "output_type": "execute_result"
    }
   ],
   "source": [
    "from sklearn.neural_network import MLPClassifier\n",
    "from sklearn.datasets import fetch_20newsgroups\n",
    "from sklearn.feature_extraction.text import TfidfVectorizer\n",
    "from sklearn.pipeline import Pipeline\n",
    "\n",
    "# Load the 20newsgroups dataset\n",
    "newsgroups_train = fetch_20newsgroups(subset='train')\n",
    "newsgroups_test = fetch_20newsgroups(subset='test')\n",
    "\n",
    "# Create a pipeline with TfidfVectorizer and MLPClassifier\n",
    "clf = Pipeline([\n",
    "    ('tfidf', TfidfVectorizer()),\n",
    "    ('mlp', MLPClassifier(hidden_layer_sizes=(50,), max_iter=50, alpha=0.0001,\n",
    "                          solver='adam', verbose=10, tol=0.0001, random_state=42))\n",
    "])\n",
    "\n",
    "# Fit the pipeline to the training data\n",
    "clf.fit(newsgroups_train.data, newsgroups_train.target)\n",
    "\n",
    "# Evaluate the pipeline on the test data\n",
    "accuracy = clf.score(newsgroups_test.data, newsgroups_test.target)\n",
    "\n",
    "print(f\"Accuracy: {accuracy}\")\n",
    "\n",
    "\"\"\"In this code, we first load the 20newsgroups dataset using fetch_20newsgroups function from \n",
    "sklearn.datasets. We then create a pipeline that consists of TfidfVectorizer for text feature \n",
    "extraction and MLPClassifier for classification.\n",
    "\n",
    "We use a hidden layer size of 50, max iteration of 50,\n",
    " and an alpha value of 0.0001. We set the solver to 'adam',\n",
    "   which is a stochastic gradient-based optimizer, and verbose to 10 to \n",
    "   get updates on the training process. We set the random state to 42 \n",
    "   for reproducibility.\n",
    "\n",
    "We then fit the pipeline to the training data and evaluate the pipeline \n",
    "on the test data using the score method. This code should achieve an accuracy \n",
    "of over 90% without extracting categories.\"\"\""
   ]
  }
 ],
 "metadata": {
  "kernelspec": {
   "display_name": "base",
   "language": "python",
   "name": "python3"
  },
  "language_info": {
   "codemirror_mode": {
    "name": "ipython",
    "version": 3
   },
   "file_extension": ".py",
   "mimetype": "text/x-python",
   "name": "python",
   "nbconvert_exporter": "python",
   "pygments_lexer": "ipython3",
   "version": "3.9.13"
  },
  "orig_nbformat": 4
 },
 "nbformat": 4,
 "nbformat_minor": 2
}
