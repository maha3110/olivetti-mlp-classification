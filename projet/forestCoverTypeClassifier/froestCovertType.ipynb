{
 "cells": [
  {
   "cell_type": "code",
   "execution_count": 76,
   "metadata": {},
   "outputs": [],
   "source": [
    "from sklearn.datasets import fetch_covtype\n",
    "from sklearn.neural_network import MLPClassifier\n",
    "from sklearn.model_selection import train_test_split\n",
    "from matplotlib import pyplot as plt\n",
    "import pandas as pd\n",
    "import numpy as np\n",
    "\n",
    "X,y = fetch_covtype(return_X_y=True, as_frame=True)\n",
    "\n",
    "\n"
   ]
  },
  {
   "cell_type": "code",
   "execution_count": 58,
   "metadata": {},
   "outputs": [],
   "source": [
    "# check for if they could be multiple soil type for the same sample\n",
    "for i in X.to_numpy():\n",
    "    not_null = False\n",
    "    for j in range(40):\n",
    "        if(i[14+j]!=0):\n",
    "            if not_null: \n",
    "                print(\"error \",j)\n",
    "            else:\n",
    "                not_null= True"
   ]
  },
  {
   "cell_type": "code",
   "execution_count": 77,
   "metadata": {},
   "outputs": [],
   "source": [
    "# since there is no sample with multiple soil type \n",
    "# we can reduse the number of columns by using a single column instead of 40\n",
    "#the same could be done for wilderness_area features \n",
    "\n",
    "soil_type = pd.Series(np.zeros(X.shape[0]))\n",
    "for i in range(40):\n",
    "    soil_type += ((i + 1) * X[f'Soil_Type_{i}'])\n",
    "\n",
    "X.drop(columns=[f'Soil_Type_{i}' for i in range(40)], axis=1, inplace=True)\n",
    "X['Soil_Type'] = soil_type\n",
    "X_train, X_test, y_train, y_test = train_test_split(X, y, test_size=0.2)"
   ]
  },
  {
   "cell_type": "code",
   "execution_count": 78,
   "metadata": {},
   "outputs": [
    {
     "name": "stdout",
     "output_type": "stream",
     "text": [
      "Iteration 1, loss = 4.12622847\n",
      "Iteration 2, loss = 2.49205329\n",
      "Iteration 3, loss = 2.29887846\n",
      "Iteration 4, loss = 2.09933517\n",
      "Iteration 5, loss = 2.12180984\n",
      "Iteration 6, loss = 1.97044732\n",
      "Iteration 7, loss = 1.89122057\n",
      "Iteration 8, loss = 1.81577127\n",
      "Iteration 9, loss = 1.77000817\n",
      "Iteration 10, loss = 1.66621131\n",
      "Iteration 11, loss = 1.66060885\n",
      "Iteration 12, loss = 1.55272873\n",
      "Iteration 13, loss = 1.52003707\n",
      "Iteration 14, loss = 1.45993822\n",
      "Iteration 15, loss = 1.42890018\n",
      "Iteration 16, loss = 1.34103042\n",
      "Iteration 17, loss = 1.30531756\n",
      "Iteration 18, loss = 1.28092591\n",
      "Iteration 19, loss = 1.20907737\n",
      "Iteration 20, loss = 1.13434162\n",
      "Iteration 21, loss = 1.16142594\n",
      "Iteration 22, loss = 1.09912388\n",
      "Iteration 23, loss = 1.09230994\n",
      "Iteration 24, loss = 1.02452548\n",
      "Iteration 25, loss = 1.00262316\n",
      "Iteration 26, loss = 0.94506844\n",
      "Iteration 27, loss = 0.93749261\n",
      "Iteration 28, loss = 0.88429432\n",
      "Iteration 29, loss = 0.91938306\n",
      "Iteration 30, loss = 0.84821875\n",
      "Iteration 31, loss = 0.84490509\n",
      "Iteration 32, loss = 0.82042231\n",
      "Iteration 33, loss = 0.80085086\n",
      "Iteration 34, loss = 0.78397869\n",
      "Iteration 35, loss = 0.76038340\n",
      "Iteration 36, loss = 0.75748509\n",
      "Iteration 37, loss = 0.74428574\n",
      "Iteration 38, loss = 0.71939617\n",
      "Iteration 39, loss = 0.72061504\n",
      "Iteration 40, loss = 0.70282609\n",
      "Iteration 41, loss = 0.68429670\n",
      "Iteration 42, loss = 0.67836488\n",
      "Iteration 43, loss = 0.67528682\n",
      "Iteration 44, loss = 0.66315407\n",
      "Iteration 45, loss = 0.66014940\n",
      "Iteration 46, loss = 0.65604717\n",
      "Iteration 47, loss = 0.64654617\n",
      "Iteration 48, loss = 0.63575684\n",
      "Iteration 49, loss = 0.63630724\n",
      "Iteration 50, loss = 0.63097656\n",
      "Iteration 51, loss = 0.62043755\n",
      "Iteration 52, loss = 0.61646107\n",
      "Iteration 53, loss = 0.61653198\n",
      "Iteration 54, loss = 0.61001402\n",
      "Iteration 55, loss = 0.61103862\n",
      "Iteration 56, loss = 0.60604964\n",
      "Iteration 57, loss = 0.60368474\n",
      "Iteration 58, loss = 0.60211668\n",
      "Iteration 59, loss = 0.60033660\n",
      "Iteration 60, loss = 0.59854274\n",
      "Iteration 61, loss = 0.59971594\n",
      "Iteration 62, loss = 0.59780590\n",
      "Iteration 63, loss = 0.59763509\n",
      "Iteration 64, loss = 0.59808816\n",
      "Iteration 65, loss = 0.59551829\n",
      "Iteration 66, loss = 0.59462389\n",
      "Iteration 67, loss = 0.59447078\n",
      "Iteration 68, loss = 0.59438437\n",
      "Iteration 69, loss = 0.59307386\n",
      "Iteration 70, loss = 0.59159395\n",
      "Iteration 71, loss = 0.59332544\n",
      "Iteration 72, loss = 0.59265516\n",
      "Iteration 73, loss = 0.59066822\n",
      "Iteration 74, loss = 0.59287876\n",
      "Iteration 75, loss = 0.59050589\n",
      "Iteration 76, loss = 0.58981807\n",
      "Iteration 77, loss = 0.58987404\n",
      "Iteration 78, loss = 0.58942922\n",
      "Iteration 79, loss = 0.58976231\n",
      "Iteration 80, loss = 0.59002007\n",
      "Iteration 81, loss = 0.59029150\n",
      "Iteration 82, loss = 0.58708903\n",
      "Iteration 83, loss = 0.58739747\n",
      "Iteration 84, loss = 0.58587152\n",
      "Iteration 85, loss = 0.58687029\n",
      "Iteration 86, loss = 0.58562704\n",
      "Iteration 87, loss = 0.58409275\n",
      "Iteration 88, loss = 0.58532694\n",
      "Iteration 89, loss = 0.58556612\n",
      "Iteration 90, loss = 0.58338883\n",
      "Iteration 91, loss = 0.58390454\n",
      "Iteration 92, loss = 0.58189950\n",
      "Iteration 93, loss = 0.58315901\n",
      "Iteration 94, loss = 0.58233380\n",
      "Iteration 95, loss = 0.58293733\n",
      "Iteration 96, loss = 0.58277743\n",
      "Iteration 97, loss = 0.58050024\n",
      "Iteration 98, loss = 0.58084501\n",
      "Iteration 99, loss = 0.58045548\n",
      "Iteration 100, loss = 0.58524336\n",
      "Iteration 101, loss = 0.58237268\n",
      "Iteration 102, loss = 0.58130863\n",
      "Iteration 103, loss = 0.58280301\n",
      "Iteration 104, loss = 0.57964275\n",
      "Iteration 105, loss = 0.58113328\n",
      "Iteration 106, loss = 0.57892695\n",
      "Iteration 107, loss = 0.58022440\n",
      "Iteration 108, loss = 0.58047635\n",
      "Iteration 109, loss = 0.57887958\n",
      "Iteration 110, loss = 0.57885081\n",
      "Iteration 111, loss = 0.57970450\n",
      "Iteration 112, loss = 0.57724832\n",
      "Iteration 113, loss = 0.57976643\n",
      "Iteration 114, loss = 0.57964099\n",
      "Iteration 115, loss = 0.57948182\n",
      "Iteration 116, loss = 0.57851752\n",
      "Iteration 117, loss = 0.57792555\n",
      "Iteration 118, loss = 0.57788259\n",
      "Iteration 119, loss = 0.58003158\n",
      "Iteration 120, loss = 0.57961560\n",
      "Iteration 121, loss = 0.57923753\n",
      "Iteration 122, loss = 0.57873275\n",
      "Iteration 123, loss = 0.57878356\n",
      "Training loss did not improve more than tol=0.000100 for 10 consecutive epochs. Stopping.\n"
     ]
    },
    {
     "data": {
      "text/html": [
       "<style>#sk-container-id-7 {color: black;background-color: white;}#sk-container-id-7 pre{padding: 0;}#sk-container-id-7 div.sk-toggleable {background-color: white;}#sk-container-id-7 label.sk-toggleable__label {cursor: pointer;display: block;width: 100%;margin-bottom: 0;padding: 0.3em;box-sizing: border-box;text-align: center;}#sk-container-id-7 label.sk-toggleable__label-arrow:before {content: \"▸\";float: left;margin-right: 0.25em;color: #696969;}#sk-container-id-7 label.sk-toggleable__label-arrow:hover:before {color: black;}#sk-container-id-7 div.sk-estimator:hover label.sk-toggleable__label-arrow:before {color: black;}#sk-container-id-7 div.sk-toggleable__content {max-height: 0;max-width: 0;overflow: hidden;text-align: left;background-color: #f0f8ff;}#sk-container-id-7 div.sk-toggleable__content pre {margin: 0.2em;color: black;border-radius: 0.25em;background-color: #f0f8ff;}#sk-container-id-7 input.sk-toggleable__control:checked~div.sk-toggleable__content {max-height: 200px;max-width: 100%;overflow: auto;}#sk-container-id-7 input.sk-toggleable__control:checked~label.sk-toggleable__label-arrow:before {content: \"▾\";}#sk-container-id-7 div.sk-estimator input.sk-toggleable__control:checked~label.sk-toggleable__label {background-color: #d4ebff;}#sk-container-id-7 div.sk-label input.sk-toggleable__control:checked~label.sk-toggleable__label {background-color: #d4ebff;}#sk-container-id-7 input.sk-hidden--visually {border: 0;clip: rect(1px 1px 1px 1px);clip: rect(1px, 1px, 1px, 1px);height: 1px;margin: -1px;overflow: hidden;padding: 0;position: absolute;width: 1px;}#sk-container-id-7 div.sk-estimator {font-family: monospace;background-color: #f0f8ff;border: 1px dotted black;border-radius: 0.25em;box-sizing: border-box;margin-bottom: 0.5em;}#sk-container-id-7 div.sk-estimator:hover {background-color: #d4ebff;}#sk-container-id-7 div.sk-parallel-item::after {content: \"\";width: 100%;border-bottom: 1px solid gray;flex-grow: 1;}#sk-container-id-7 div.sk-label:hover label.sk-toggleable__label {background-color: #d4ebff;}#sk-container-id-7 div.sk-serial::before {content: \"\";position: absolute;border-left: 1px solid gray;box-sizing: border-box;top: 0;bottom: 0;left: 50%;z-index: 0;}#sk-container-id-7 div.sk-serial {display: flex;flex-direction: column;align-items: center;background-color: white;padding-right: 0.2em;padding-left: 0.2em;position: relative;}#sk-container-id-7 div.sk-item {position: relative;z-index: 1;}#sk-container-id-7 div.sk-parallel {display: flex;align-items: stretch;justify-content: center;background-color: white;position: relative;}#sk-container-id-7 div.sk-item::before, #sk-container-id-7 div.sk-parallel-item::before {content: \"\";position: absolute;border-left: 1px solid gray;box-sizing: border-box;top: 0;bottom: 0;left: 50%;z-index: -1;}#sk-container-id-7 div.sk-parallel-item {display: flex;flex-direction: column;z-index: 1;position: relative;background-color: white;}#sk-container-id-7 div.sk-parallel-item:first-child::after {align-self: flex-end;width: 50%;}#sk-container-id-7 div.sk-parallel-item:last-child::after {align-self: flex-start;width: 50%;}#sk-container-id-7 div.sk-parallel-item:only-child::after {width: 0;}#sk-container-id-7 div.sk-dashed-wrapped {border: 1px dashed gray;margin: 0 0.4em 0.5em 0.4em;box-sizing: border-box;padding-bottom: 0.4em;background-color: white;}#sk-container-id-7 div.sk-label label {font-family: monospace;font-weight: bold;display: inline-block;line-height: 1.2em;}#sk-container-id-7 div.sk-label-container {text-align: center;}#sk-container-id-7 div.sk-container {/* jupyter's `normalize.less` sets `[hidden] { display: none; }` but bootstrap.min.css set `[hidden] { display: none !important; }` so we also need the `!important` here to be able to override the default hidden behavior on the sphinx rendered scikit-learn.org. See: https://github.com/scikit-learn/scikit-learn/issues/21755 */display: inline-block !important;position: relative;}#sk-container-id-7 div.sk-text-repr-fallback {display: none;}</style><div id=\"sk-container-id-7\" class=\"sk-top-container\"><div class=\"sk-text-repr-fallback\"><pre>MLPClassifier(verbose=True)</pre><b>In a Jupyter environment, please rerun this cell to show the HTML representation or trust the notebook. <br />On GitHub, the HTML representation is unable to render, please try loading this page with nbviewer.org.</b></div><div class=\"sk-container\" hidden><div class=\"sk-item\"><div class=\"sk-estimator sk-toggleable\"><input class=\"sk-toggleable__control sk-hidden--visually\" id=\"sk-estimator-id-7\" type=\"checkbox\" checked><label for=\"sk-estimator-id-7\" class=\"sk-toggleable__label sk-toggleable__label-arrow\">MLPClassifier</label><div class=\"sk-toggleable__content\"><pre>MLPClassifier(verbose=True)</pre></div></div></div></div></div>"
      ],
      "text/plain": [
       "MLPClassifier(verbose=True)"
      ]
     },
     "execution_count": 78,
     "metadata": {},
     "output_type": "execute_result"
    }
   ],
   "source": [
    "model = MLPClassifier(verbose=True)\n",
    "model.fit(X_train, y_train)"
   ]
  },
  {
   "cell_type": "code",
   "execution_count": 79,
   "metadata": {},
   "outputs": [
    {
     "data": {
      "text/plain": [
       "0.7246972969716788"
      ]
     },
     "execution_count": 79,
     "metadata": {},
     "output_type": "execute_result"
    }
   ],
   "source": [
    "model.score(X_test,y_test)"
   ]
  }
 ],
 "metadata": {
  "kernelspec": {
   "display_name": "Python 3",
   "language": "python",
   "name": "python3"
  },
  "language_info": {
   "codemirror_mode": {
    "name": "ipython",
    "version": 3
   },
   "file_extension": ".py",
   "mimetype": "text/x-python",
   "name": "python",
   "nbconvert_exporter": "python",
   "pygments_lexer": "ipython3",
   "version": "3.11.0"
  },
  "orig_nbformat": 4
 },
 "nbformat": 4,
 "nbformat_minor": 2
}
